{
 "cells": [
  {
   "cell_type": "markdown",
   "id": "582fd51e",
   "metadata": {},
   "source": [
    "# Lab 2: numpy\n",
    "\n",
    "#### Practice Exercise 1\n",
    "\n",
    "Create the following NumPy arrays: \n",
    "1. A 1-D array called zeros having 10 elements and all the elements are set to zero. \n",
    "2. A 1-D array called vowels having the elements ‘a’, ‘e’, ‘i’, ‘o’ and ‘u’. \n",
    "3. A 2-D array called ones having 2 rows and 5 columns and all the elements are set to 1 and dtype as int. \n",
    "4. Use nested Python lists to create a 2-D array called myarray1 having 3 rows and 3 columns and store the following data: 2.7,  0,  -2,  3.4,  10.6,  0,  -19 99.9 13 \n",
    "5. A 2-D array called myarray2 using arange() having 3 rows and 5 columns with start value = 4, step size 4 and dtype as float\n"
   ]
  },
  {
   "cell_type": "code",
   "execution_count": 2,
   "id": "9195d139",
   "metadata": {},
   "outputs": [
    {
     "name": "stdout",
     "output_type": "stream",
     "text": [
      "zeros:\n",
      " [0 0 0 0 0 0 0 0 0 0]\n",
      "vowels:\n",
      " ['a' 'e' 'i' 'o' 'u']\n",
      "ones:\n",
      " [[1 1 1 1 1]\n",
      " [1 1 1 1 1]]\n",
      "myarray1:\n",
      " [[  2.7   0.   -2. ]\n",
      " [  3.4  10.6   0. ]\n",
      " [-19.   99.9  13. ]]\n",
      "myarray2:\n",
      " [[ 4.  8. 12. 16. 20.]\n",
      " [24. 28. 32. 36. 40.]\n",
      " [44. 48. 52. 56. 60.]]\n"
     ]
    }
   ],
   "source": [
    "# Write your answer here\n",
    "import numpy as np \n",
    "\n",
    "zeros = np.zeros(10, dtype=int)\n",
    "vowels = np.array(['a', 'e', 'i', 'o', 'u'])\n",
    "ones = np.ones((2, 5), dtype=int)\n",
    "myarray1 = np.array([[2.7, 0, -2], [3.4, 10.6, 0], [-19, 99.9, 13]])\n",
    "myarray2 = np.arange(4, 4*15 + 1, 4, dtype=float).reshape(3, 5)\n",
    "\n",
    "print(\"zeros:\\n\", zeros)\n",
    "print(\"vowels:\\n\", vowels)\n",
    "print(\"ones:\\n\", ones)\n",
    "print(\"myarray1:\\n\", myarray1)\n",
    "print(\"myarray2:\\n\", myarray2)\n",
    "\n"
   ]
  },
  {
   "cell_type": "markdown",
   "id": "2d3fc3a8",
   "metadata": {},
   "source": [
    "Using the arrays created in Question above, write NumPy commands for the following: \n",
    "1. Find the dimensions, shape, size, data type of the items and itemsize of arrays zeros, vowels, ones, myarray1 and myarray2. \n",
    "2. Reshape the array ones to have all the 10 elements in a single row. \n",
    "3. Display the 2nd and 3rd element of the array vowels. \n",
    "4. Display all elements in the 2nd and 3rd row of the array myarray1. \n",
    "5. Display the elements in the 1st and 2nd column of the array myarray1. \n",
    "6. Display the elements in the 1st column of the 2nd and 3rd row of the array myarray1. \n",
    "7. Reverse the array of vowels."
   ]
  },
  {
   "cell_type": "code",
   "execution_count": 50,
   "id": "fc69c3db",
   "metadata": {},
   "outputs": [
    {
     "name": "stdout",
     "output_type": "stream",
     "text": [
      "2 15 float64 8 (3, 5)\n",
      "Reshaped ones array:\n",
      " [[1 1 1 1 1 1 1 1 1 1]] \n",
      "\n",
      "2nd and 3rd elements of vowels: ['e' 'i'] \n",
      "\n",
      "2nd and 3rd rows of myarray1:\n",
      " [[  3.4  10.6   0. ]\n",
      " [-19.   99.9  13. ]] \n",
      "\n",
      "1st and 2nd columns of myarray1:\n",
      " [[  2.7   0. ]\n",
      " [  3.4  10.6]\n",
      " [-19.   99.9]] \n",
      "\n",
      "1st column of 2nd and 3rd rows of myarray1:\n",
      " [  3.4 -19. ]\n",
      "Reversed vowels array:\n",
      " ['u' 'o' 'i' 'e' 'a']\n"
     ]
    }
   ],
   "source": [
    "#Write your answer here\n",
    "print(myarray2.ndim, myarray2.size, myarray2.dtype, myarray2.itemsize, myarray2.shape)\n",
    "ones = ones.reshape(1, 10)\n",
    "print(\"Reshaped ones array:\\n\", ones, \"\\n\")\n",
    "\n",
    "q3 = vowels[1:3]\n",
    "print(\"2nd and 3rd elements of vowels:\", q3, \"\\n\")\n",
    "\n",
    "q4 = myarray1[1:3, ]\n",
    "print(\"2nd and 3rd rows of myarray1:\\n\", q4, \"\\n\")\n",
    "\n",
    "q5 = myarray1[:, 0:2]\n",
    "print(\"1st and 2nd columns of myarray1:\\n\", q5, \"\\n\")\n",
    "\n",
    "q6 = myarray1[1:3, 0]\n",
    "print(\"1st column of 2nd and 3rd rows of myarray1:\\n\", q6)\n",
    "q7 = vowels[::-1]\n",
    "print(\"Reversed vowels array:\\n\", q7)"
   ]
  },
  {
   "cell_type": "markdown",
   "id": "e1edb3bb",
   "metadata": {},
   "source": [
    "Using the arrays created in Question above, write NumPy commands for the following:\n",
    "1. Divide all elements of array ones by 3. \n",
    "2. Add the arrays myarray1 and myarray2. \n",
    "3. Subtract myarray1 from myarray2 and store the result in a new array. \n",
    "4. Multiply myarray1 and myarray2 elementwise. \n",
    "5. Do the matrix multiplication of myarray1 and myarray2 and store the result in a new array myarray3. \n",
    "6. Divide myarray1 by myarray2. \n",
    "7. Find the cube of all elements of myarray1 and divide the resulting array by 2. \n",
    "8. Find the square root of all elements of myarray2   and divide the resulting array by 2. The result  should be rounded to two places of decimals."
   ]
  },
  {
   "cell_type": "code",
   "execution_count": 12,
   "id": "3c933386",
   "metadata": {},
   "outputs": [
    {
     "name": "stdout",
     "output_type": "stream",
     "text": [
      "q1:\n",
      " [[0.33333333 0.33333333 0.33333333 0.33333333 0.33333333]\n",
      " [0.33333333 0.33333333 0.33333333 0.33333333 0.33333333]]\n",
      "q2:\n",
      " [[  6.7   8.   10. ]\n",
      " [ 27.4  38.6  32. ]\n",
      " [ 25.  147.9  65. ]]\n",
      "q3:\n",
      " [[  1.3   8.   14. ]\n",
      " [ 20.6  17.4  32. ]\n",
      " [ 63.  -51.9  39. ]]\n",
      "q4:\n",
      " [[  10.8    0.   -24. ]\n",
      " [  81.6  296.8    0. ]\n",
      " [-836.  4795.2  676. ]]\n",
      "q5:\n",
      " [[ -77.2  -74.4  -71.6  -68.8  -66. ]\n",
      " [ 268.   324.   380.   436.   492. ]\n",
      " [2893.6 3269.2 3644.8 4020.4 4396. ]]\n",
      "q6:\n",
      " [[ 0.675       0.         -0.16666667]\n",
      " [ 0.14166667  0.37857143  0.        ]\n",
      " [-0.43181818  2.08125     0.25      ]]\n",
      "q7:\n",
      " [[ 9.841500e+00  0.000000e+00 -4.000000e+00]\n",
      " [ 1.965200e+01  5.955080e+02  0.000000e+00]\n",
      " [-3.429500e+03  4.985015e+05  1.098500e+03]]\n",
      "q8:\n",
      " [[1.   1.41 1.73 2.   2.24]\n",
      " [2.45 2.65 2.83 3.   3.16]\n",
      " [3.32 3.46 3.61 3.74 3.87]]\n"
     ]
    }
   ],
   "source": [
    "# Write your answer here\n",
    "q1 = ones / 3\n",
    "q2 = myarray2[:, :3] + myarray1\n",
    "q3 = myarray2[:, :3] - myarray1\n",
    "q4 = myarray1 * myarray2[:, :3]\n",
    "q5 = np.dot(myarray1, myarray2)\n",
    "q6 = myarray1 / myarray2[:, :3]\n",
    "q7 = (myarray1**3) / 2\n",
    "q8 = np.round(np.sqrt(myarray2) / 2, 2)\n",
    "\n",
    "print(\"q1:\\n\", q1)\n",
    "print(\"q2:\\n\", q2)\n",
    "print(\"q3:\\n\", q3)\n",
    "print(\"q4:\\n\", q4)\n",
    "print(\"q5:\\n\", q5)\n",
    "print(\"q6:\\n\", q6)\n",
    "print(\"q7:\\n\", q7)\n",
    "print(\"q8:\\n\", q8)\n"
   ]
  },
  {
   "cell_type": "markdown",
   "id": "d8aafc74",
   "metadata": {},
   "source": [
    "Using the arrays created above, write NumPy commands for the following: \n",
    "1. Find the transpose of ones and myarray2. \n",
    "2. Sort the array vowels in reverse. \n",
    "3. Sort the array myarray1 such that it brings the lowest value of the column in the first row and so on."
   ]
  },
  {
   "cell_type": "code",
   "execution_count": 16,
   "id": "573c6506",
   "metadata": {},
   "outputs": [
    {
     "name": "stdout",
     "output_type": "stream",
     "text": [
      "[[  2.7   0.   -2. ]\n",
      " [  3.4  10.6   0. ]\n",
      " [-19.   99.9  13. ]]\n",
      "[[ -2.    0.    2.7]\n",
      " [  0.    3.4  10.6]\n",
      " [-19.   13.   99.9]]\n",
      "[[-19.    0.   -2. ]\n",
      " [  2.7  10.6   0. ]\n",
      " [  3.4  99.9  13. ]]\n"
     ]
    }
   ],
   "source": [
    "# Write your answer here\n",
    "#np.transpose(myarray2) or myarray2.T both ara correct \n",
    "q1 = np.transpose(myarray2)\n",
    "print(myarray1)\n",
    "print(np.sort(myarray1))\n",
    "print(np.sort(myarray1,0))"
   ]
  },
  {
   "cell_type": "markdown",
   "id": "93546856",
   "metadata": {},
   "source": [
    "Create a 2-D array called myarray4 using arange() having 14 rows and 3 columns with start value = -1, step size 0.25 having. Split this array row wise into 3 equal parts and print the result. "
   ]
  },
  {
   "cell_type": "code",
   "execution_count": 18,
   "id": "441dd934",
   "metadata": {},
   "outputs": [
    {
     "data": {
      "text/plain": [
       "[array([[-1.  , -0.75, -0.5 ],\n",
       "        [-0.25,  0.  ,  0.25],\n",
       "        [ 0.5 ,  0.75,  1.  ],\n",
       "        [ 1.25,  1.5 ,  1.75],\n",
       "        [ 2.  ,  2.25,  2.5 ]]),\n",
       " array([[2.75, 3.  , 3.25],\n",
       "        [3.5 , 3.75, 4.  ],\n",
       "        [4.25, 4.5 , 4.75],\n",
       "        [5.  , 5.25, 5.5 ],\n",
       "        [5.75, 6.  , 6.25]]),\n",
       " array([[6.5 , 6.75, 7.  ],\n",
       "        [7.25, 7.5 , 7.75],\n",
       "        [8.  , 8.25, 8.5 ],\n",
       "        [8.75, 9.  , 9.25]])]"
      ]
     },
     "execution_count": 18,
     "metadata": {},
     "output_type": "execute_result"
    }
   ],
   "source": [
    "# Write your answer here\n",
    "myarray4= np.arange(-1,-1+0.25*42,0.25).reshape(14,3)\n",
    "#myarray4.size if I want to know the size \n",
    "np.array_split(myarray4,3)"
   ]
  },
  {
   "cell_type": "markdown",
   "id": "c8cdbaff",
   "metadata": {},
   "source": [
    "Using the myarray4 created in the above questions, write commands for the following: \n",
    "1. Find the sum of all elements. \n",
    "2. Find the sum of all elements row wise\n",
    "3. Find the sum of all elements column wise. \n",
    "4. Find the max of all elements. \n",
    "5. Find the min of all elements in each row. \n",
    "6. Find the mean of all elements in each row. \n",
    "7. Find the standard deviation column wise."
   ]
  },
  {
   "cell_type": "code",
   "execution_count": 34,
   "id": "66af8b55",
   "metadata": {},
   "outputs": [
    {
     "name": "stdout",
     "output_type": "stream",
     "text": [
      "q1:\n",
      " [[ 4. 24. 44.]\n",
      " [ 8. 28. 48.]\n",
      " [12. 32. 52.]\n",
      " [16. 36. 56.]\n",
      " [20. 40. 60.]]\n",
      "q2:\n",
      " [[  6.7   8.   10. ]\n",
      " [ 27.4  38.6  32. ]\n",
      " [ 25.  147.9  65. ]]\n",
      "q3:\n",
      " [[  1.3   8.   14. ]\n",
      " [ 20.6  17.4  32. ]\n",
      " [ 63.  -51.9  39. ]]\n",
      "q4:\n",
      " [[  10.8    0.   -24. ]\n",
      " [  81.6  296.8    0. ]\n",
      " [-836.  4795.2  676. ]]\n",
      "q5:\n",
      " [[ -77.2  -74.4  -71.6  -68.8  -66. ]\n",
      " [ 268.   324.   380.   436.   492. ]\n",
      " [2893.6 3269.2 3644.8 4020.4 4396. ]]\n"
     ]
    }
   ],
   "source": [
    "# Write your ansewr here\n",
    "np.sum(myarray4)\n",
    "np.max(myarray4)\n",
    "np.min(myarray4)\n",
    "np.mean(myarray4)\n",
    "np.std(myarray4)\n",
    "\n",
    "print(\"q1:\\n\", q1)\n",
    "print(\"q2:\\n\", q2)\n",
    "print(\"q3:\\n\", q3)\n",
    "print(\"q4:\\n\", q4)\n",
    "print(\"q5:\\n\", q5) "
   ]
  },
  {
   "cell_type": "markdown",
   "id": "8d7e1dca",
   "metadata": {},
   "source": [
    "#### Practice Exercise 2\n",
    "Read the coordinates of the capital cities of the world from the country-capital-lat-long-population.csv file. Use NumPy to print the name and coordinates of the capital city closest to the Saudi Arabia capital - Riyadh.\n",
    "\n",
    "Note that:\n",
    "\n",
    "1. The Country Name for Saudi Arabia is given as Saudi Arabia in the data.\n",
    "2. The ‘closeness’ of capital cities from the Saudi Arabia capital is based on the Euclidean distance of their coordinates to those of the Saudi Arabia capital.\n",
    "\n",
    "\n",
    "Hints:\n",
    "\n",
    "1. Use read_html() from the Pandas library to read the table.\n",
    "2. Use the to_numpy() function of the Pandas DataFrame class to convert a DataFrame to a Numpy array\n",
    "3. Use broadcasting to compute the euclidean distance of capital cities from Riyadh."
   ]
  },
  {
   "cell_type": "code",
   "execution_count": 24,
   "id": "ab6b9725",
   "metadata": {},
   "outputs": [
    {
     "data": {
      "text/html": [
       "<div>\n",
       "<style scoped>\n",
       "    .dataframe tbody tr th:only-of-type {\n",
       "        vertical-align: middle;\n",
       "    }\n",
       "\n",
       "    .dataframe tbody tr th {\n",
       "        vertical-align: top;\n",
       "    }\n",
       "\n",
       "    .dataframe thead th {\n",
       "        text-align: right;\n",
       "    }\n",
       "</style>\n",
       "<table border=\"1\" class=\"dataframe\">\n",
       "  <thead>\n",
       "    <tr style=\"text-align: right;\">\n",
       "      <th></th>\n",
       "      <th>Country</th>\n",
       "      <th>Capital City</th>\n",
       "      <th>Latitude</th>\n",
       "      <th>Longitude</th>\n",
       "      <th>Population</th>\n",
       "      <th>Capital Type</th>\n",
       "    </tr>\n",
       "  </thead>\n",
       "  <tbody>\n",
       "    <tr>\n",
       "      <th>0</th>\n",
       "      <td>Afghanistan</td>\n",
       "      <td>Kabul</td>\n",
       "      <td>34.5289</td>\n",
       "      <td>69.1725</td>\n",
       "      <td>4011770</td>\n",
       "      <td>Capital</td>\n",
       "    </tr>\n",
       "    <tr>\n",
       "      <th>1</th>\n",
       "      <td>Albania</td>\n",
       "      <td>Tiranë (Tirana)</td>\n",
       "      <td>41.3275</td>\n",
       "      <td>19.8189</td>\n",
       "      <td>475577</td>\n",
       "      <td>Capital</td>\n",
       "    </tr>\n",
       "    <tr>\n",
       "      <th>2</th>\n",
       "      <td>Algeria</td>\n",
       "      <td>El Djazaïr  (Algiers)</td>\n",
       "      <td>36.7525</td>\n",
       "      <td>3.0420</td>\n",
       "      <td>2693542</td>\n",
       "      <td>Capital</td>\n",
       "    </tr>\n",
       "    <tr>\n",
       "      <th>3</th>\n",
       "      <td>American Samoa</td>\n",
       "      <td>Pago Pago</td>\n",
       "      <td>-14.2781</td>\n",
       "      <td>-170.7025</td>\n",
       "      <td>48526</td>\n",
       "      <td>Capital</td>\n",
       "    </tr>\n",
       "    <tr>\n",
       "      <th>4</th>\n",
       "      <td>Andorra</td>\n",
       "      <td>Andorra la Vella</td>\n",
       "      <td>42.5078</td>\n",
       "      <td>1.5211</td>\n",
       "      <td>22614</td>\n",
       "      <td>Capital</td>\n",
       "    </tr>\n",
       "  </tbody>\n",
       "</table>\n",
       "</div>"
      ],
      "text/plain": [
       "          Country           Capital City  Latitude  Longitude  Population  \\\n",
       "0     Afghanistan                  Kabul   34.5289    69.1725     4011770   \n",
       "1         Albania        Tiranë (Tirana)   41.3275    19.8189      475577   \n",
       "2         Algeria  El Djazaïr  (Algiers)   36.7525     3.0420     2693542   \n",
       "3  American Samoa              Pago Pago  -14.2781  -170.7025       48526   \n",
       "4         Andorra       Andorra la Vella   42.5078     1.5211       22614   \n",
       "\n",
       "  Capital Type  \n",
       "0      Capital  \n",
       "1      Capital  \n",
       "2      Capital  \n",
       "3      Capital  \n",
       "4      Capital  "
      ]
     },
     "execution_count": 24,
     "metadata": {},
     "output_type": "execute_result"
    }
   ],
   "source": [
    "# Write your answer here\n",
    "import pandas as pd\n",
    "\n",
    "capitals = pd.read_csv('country-capital-lat-long-population.csv')\n",
    "capitals.head()"
   ]
  },
  {
   "cell_type": "markdown",
   "id": "1fdbec05",
   "metadata": {},
   "source": [
    "#### Practical Exercise 2\n",
    "\n",
    "Use NumPy to:\n",
    "\n",
    "1. Print the names of the countries of the top 10 capital cities closest to the US capital - Washington DC.\n",
    "\n",
    "2. Create and print a NumPy array containing the coordinates of the top 10 cities."
   ]
  },
  {
   "cell_type": "code",
   "execution_count": 20,
   "id": "45046a85",
   "metadata": {},
   "outputs": [
    {
     "name": "stdout",
     "output_type": "stream",
     "text": [
      "Countries of the top 10 closest cities to Washington, DC:\n",
      "['United States of America' 'Canada' 'Bahamas' 'Bermuda' 'Cuba'\n",
      " 'Turks and Caicos Islands' 'Cayman Islands' 'Haiti' 'Jamaica'\n",
      " 'Dominican Republic']\n",
      "\n",
      "Coordinates of the top 10 closest cities:\n",
      "[[ 38.8951 -77.0364]\n",
      " [ 45.4166 -75.698 ]\n",
      " [ 25.0582 -77.3431]\n",
      " [ 32.2915 -64.778 ]\n",
      " [ 23.1195 -82.3785]\n",
      " [ 21.4612 -71.1419]\n",
      " [ 19.2866 -81.3744]\n",
      " [ 18.5392 -72.335 ]\n",
      " [ 17.997  -76.7936]\n",
      " [ 18.4896 -69.9018]]\n"
     ]
    }
   ],
   "source": [
    "import pandas as pd\n",
    "import numpy as np\n",
    "\n",
    "# Load the data from the CSV file\n",
    "capitals = pd.read_csv('country-capital-lat-long-population.csv')\n",
    "\n",
    "# Extract Washington DC's coordinates (US capital)\n",
    "washington_data = capitals[capitals['Capital City'].str.contains('Washington')]\n",
    "washington_lat = washington_data['Latitude'].values[0]\n",
    "washington_long = washington_data['Longitude'].values[0]\n",
    "\n",
    "# Extract the latitudes, longitudes, capital city names, and countries for all the capitals\n",
    "capital_data = capitals[['Country', 'Capital City', 'Latitude', 'Longitude']].to_numpy()\n",
    "\n",
    "# Compute the Euclidean distance of all capitals from Washington, DC\n",
    "distances = np.sqrt((capital_data[:, 2].astype(float) - washington_lat)**2 + \n",
    "                    (capital_data[:, 3].astype(float) - washington_long)**2)\n",
    "\n",
    "# Exclude Washington itself from the comparison by setting its distance to infinity\n",
    "is_not_washington = capital_data[:, 1] != 'Washington'\n",
    "distances[~is_not_washington] = np.inf\n",
    "\n",
    "# Find the indices of the top 10 closest cities\n",
    "top_10_indices = np.argsort(distances)[:10]\n",
    "\n",
    "# Print the names of the countries of the top 10 closest cities\n",
    "top_10_countries = capital_data[top_10_indices, 0]\n",
    "print(\"Countries of the top 10 closest cities to Washington, DC:\")\n",
    "print(top_10_countries)\n",
    "\n",
    "# Create and print a NumPy array containing the coordinates of the top 10 cities\n",
    "top_10_coordinates = capital_data[top_10_indices, 2:4].astype(float)\n",
    "print(\"\\nCoordinates of the top 10 closest cities:\")\n",
    "print(top_10_coordinates)\n"
   ]
  },
  {
   "cell_type": "code",
   "execution_count": null,
   "id": "1445ab4d-4949-4e4a-9076-9b27d6a8147e",
   "metadata": {},
   "outputs": [],
   "source": []
  }
 ],
 "metadata": {
  "kernelspec": {
   "display_name": "Python 3 (ipykernel)",
   "language": "python",
   "name": "python3"
  },
  "language_info": {
   "codemirror_mode": {
    "name": "ipython",
    "version": 3
   },
   "file_extension": ".py",
   "mimetype": "text/x-python",
   "name": "python",
   "nbconvert_exporter": "python",
   "pygments_lexer": "ipython3",
   "version": "3.12.4"
  }
 },
 "nbformat": 4,
 "nbformat_minor": 5
}
